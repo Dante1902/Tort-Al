{
  "nbformat": 4,
  "nbformat_minor": 0,
  "metadata": {
    "colab": {
      "provenance": [],
      "authorship_tag": "ABX9TyN7PwANNx9XpSQeWFkS7sN4",
      "include_colab_link": true
    },
    "kernelspec": {
      "name": "python3",
      "display_name": "Python 3"
    },
    "language_info": {
      "name": "python"
    }
  },
  "cells": [
    {
      "cell_type": "markdown",
      "metadata": {
        "id": "view-in-github",
        "colab_type": "text"
      },
      "source": [
        "<a href=\"https://colab.research.google.com/github/Dante1902/Tort-Al/blob/main/titanic(survivor).ipynb\" target=\"_parent\"><img src=\"https://colab.research.google.com/assets/colab-badge.svg\" alt=\"Open In Colab\"/></a>"
      ]
    },
    {
      "cell_type": "markdown",
      "source": [
        "Решение задачи Выживших на Титанике с помощью\n",
        "модели Дерева решений, Случайного леса и Бэггинга"
      ],
      "metadata": {
        "id": "RM22gthsl_45"
      }
    },
    {
      "cell_type": "code",
      "source": [],
      "metadata": {
        "id": "HVhZ-5Y6mBeu"
      },
      "execution_count": null,
      "outputs": []
    }
  ]
}